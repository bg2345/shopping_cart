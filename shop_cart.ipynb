{
 "cells": [
  {
   "cell_type": "code",
   "execution_count": null,
   "metadata": {},
   "outputs": [],
   "source": [
    "from IPython.display import clear_output\n",
    "\n",
    "class Cart():\n",
    "    def __init__(self, cart=[]):\n",
    "        self.cart = cart\n",
    "        \n",
    "    def addItem(self):\n",
    "        clear_output()\n",
    "        new_item = input('What would you like to add to your shopping cart? ')\n",
    "        new_item = new_item.title()\n",
    "        self.cart.append(new_item)\n",
    "\n",
    "    def removeItem(self):\n",
    "        clear_output()\n",
    "        self.showCart()\n",
    "        item_to_remove = input('What would you like to remove from your shopping cart? ')\n",
    "        item_to_remove = item_to_remove.title()\n",
    "\n",
    "        if item_to_remove not in self.cart:\n",
    "            print('That item is not in your shopping cart.')\n",
    "        else:\n",
    "            self.cart.remove(item_to_remove)\n",
    "\n",
    "    def showCart(self):\n",
    "        clear_output()\n",
    "        print('*** Shopping Cart *** \\n_____________________\\n\\n' + '\\n'.join(self.cart))\n",
    "        \n",
    "        \n",
    "        \n",
    "        \n",
    "        \n",
    "user_cart = Cart()\n",
    "\n",
    "while True:\n",
    "    \n",
    "        request = input('To add to cart, type ADD. To remove from cart, type REMOVE. To see what is in your cart, type CART. To quit, type QUIT. ')\n",
    "        if request.lower() == 'add':\n",
    "            user_cart.addItem()\n",
    "        elif request.lower() == 'remove':\n",
    "            user_cart.removeItem()\n",
    "        elif request.lower() == 'cart':\n",
    "            user_cart.showCart()\n",
    "        elif request.lower() == 'quit':\n",
    "            user_cart.showCart()\n",
    "            break\n",
    "        else:\n",
    "            request = input('Please enter a valid command. Press ENTER to return to main menu. ')"
   ]
  }
 ],
 "metadata": {
  "kernelspec": {
   "display_name": "Python 3",
   "language": "python",
   "name": "python3"
  },
  "language_info": {
   "codemirror_mode": {
    "name": "ipython",
    "version": 3
   },
   "file_extension": ".py",
   "mimetype": "text/x-python",
   "name": "python",
   "nbconvert_exporter": "python",
   "pygments_lexer": "ipython3",
   "version": "3.7.1"
  }
 },
 "nbformat": 4,
 "nbformat_minor": 2
}
